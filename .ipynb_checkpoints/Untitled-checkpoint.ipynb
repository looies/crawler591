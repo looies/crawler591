{
 "cells": [
  {
   "cell_type": "code",
   "execution_count": 1,
   "id": "b2b6e29a-37b5-4c48-969d-4c7913a881c9",
   "metadata": {},
   "outputs": [],
   "source": [
    "import json\n",
    "with open(r\"D:\\WTX\\20220622.json\", 'r', encoding='utf8') as f:\n",
    "    fjson = json.load(f)"
   ]
  },
  {
   "cell_type": "code",
   "execution_count": 7,
   "id": "0e12aaf7-93f0-4784-900a-9f0dd21abf52",
   "metadata": {},
   "outputs": [],
   "source": [
    "\n",
    "import csv \n",
    "from datetime import datetime\n",
    "\n",
    "with open('index.csv', 'w', newline='') as f:\n",
    "    writer = csv.writer(f)\n",
    "    for row in fjson:\n",
    "        date = datetime.utcfromtimestamp(row['tradeDate']/1000).strftime('%Y-%m-%d')\n",
    "        o = row['open']\n",
    "        h = row['high']\n",
    "        l = row['low']\n",
    "        c = row['close']\n",
    "        v = row['volume']\n",
    "        writer.writerow([date, o, h, l, c, v])"
   ]
  },
  {
   "cell_type": "code",
   "execution_count": 4,
   "id": "d2c45641-fdc6-4eec-bc9d-b6b725e93048",
   "metadata": {},
   "outputs": [
    {
     "data": {
      "text/plain": [
       "{'time': 1655827200000,\n",
       " 'tradeDate': 1655827200000,\n",
       " 'open': 15687.46,\n",
       " 'high': 15687.46,\n",
       " 'low': 15346.95,\n",
       " 'close': 15347.75,\n",
       " 'volume': 7134264,\n",
       " 'millionAmount': 279243}"
      ]
     },
     "execution_count": 4,
     "metadata": {},
     "output_type": "execute_result"
    }
   ],
   "source": [
    "fjson[0]"
   ]
  },
  {
   "cell_type": "code",
   "execution_count": null,
   "id": "d4f04190-6e6f-4992-b3da-f4d692b989ed",
   "metadata": {},
   "outputs": [],
   "source": []
  }
 ],
 "metadata": {
  "kernelspec": {
   "display_name": "Python 3 (ipykernel)",
   "language": "python",
   "name": "python3"
  },
  "language_info": {
   "codemirror_mode": {
    "name": "ipython",
    "version": 3
   },
   "file_extension": ".py",
   "mimetype": "text/x-python",
   "name": "python",
   "nbconvert_exporter": "python",
   "pygments_lexer": "ipython3",
   "version": "3.10.4"
  }
 },
 "nbformat": 4,
 "nbformat_minor": 5
}
